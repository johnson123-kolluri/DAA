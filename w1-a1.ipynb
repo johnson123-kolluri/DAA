{
  "nbformat": 4,
  "nbformat_minor": 0,
  "metadata": {
    "colab": {
      "provenance": [],
      "authorship_tag": "ABX9TyNXLik6OsbHAkUgnD3r7Ty2",
      "include_colab_link": true
    },
    "kernelspec": {
      "name": "python3",
      "display_name": "Python 3"
    },
    "language_info": {
      "name": "python"
    }
  },
  "cells": [
    {
      "cell_type": "markdown",
      "metadata": {
        "id": "view-in-github",
        "colab_type": "text"
      },
      "source": [
        "<a href=\"https://colab.research.google.com/github/johnson123-kolluri/DAA/blob/main/w1-a1.ipynb\" target=\"_parent\"><img src=\"https://colab.research.google.com/assets/colab-badge.svg\" alt=\"Open In Colab\"/></a>"
      ]
    },
    {
      "cell_type": "code",
      "execution_count": 1,
      "metadata": {
        "colab": {
          "base_uri": "https://localhost:8080/"
        },
        "id": "HIHY7wDVYi64",
        "outputId": "cd14f5b0-f185-4535-80b3-a65e4c97de87"
      },
      "outputs": [
        {
          "output_type": "stream",
          "name": "stdout",
          "text": [
            "Enter time to reach destination (enter 'done' to finish):\n",
            "20\n",
            "15\n",
            "30\n",
            "42\n",
            "done\n",
            "15\n",
            "20\n",
            "30\n",
            "42\n"
          ]
        }
      ],
      "source": [
        "def sort_delivery_times(times):\n",
        "    return sorted(times)\n",
        "\n",
        "# Test case 1\n",
        "input_times = []\n",
        "print(\"Enter time to reach destination (enter 'done' to finish):\")\n",
        "\n",
        "while True:\n",
        "    user_input = input()\n",
        "    if user_input.lower() == 'done':\n",
        "        break\n",
        "    try:\n",
        "        time = int(user_input)\n",
        "        input_times.append(time)\n",
        "    except ValueError:\n",
        "        print(\"Please enter a valid number or 'done' to finish.\")\n",
        "\n",
        "sorted_times = sort_delivery_times(input_times)\n",
        "\n",
        "# Output\n",
        "for time in sorted_times:\n",
        "    print(time)"
      ]
    }
  ]
}