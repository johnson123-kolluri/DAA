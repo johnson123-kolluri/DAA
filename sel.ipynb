{
  "nbformat": 4,
  "nbformat_minor": 0,
  "metadata": {
    "colab": {
      "provenance": [],
      "authorship_tag": "ABX9TyOf6QdzxJR6wN9AVNGHbBjM",
      "include_colab_link": true
    },
    "kernelspec": {
      "name": "python3",
      "display_name": "Python 3"
    },
    "language_info": {
      "name": "python"
    }
  },
  "cells": [
    {
      "cell_type": "markdown",
      "metadata": {
        "id": "view-in-github",
        "colab_type": "text"
      },
      "source": [
        "<a href=\"https://colab.research.google.com/github/johnson123-kolluri/DAA/blob/main/sel.ipynb\" target=\"_parent\"><img src=\"https://colab.research.google.com/assets/colab-badge.svg\" alt=\"Open In Colab\"/></a>"
      ]
    },
    {
      "cell_type": "code",
      "execution_count": 1,
      "metadata": {
        "colab": {
          "base_uri": "https://localhost:8080/"
        },
        "id": "vSVE8hOmTlQB",
        "outputId": "8f84c403-1037-4e25-dd0e-cdb64fc9a3f4"
      },
      "outputs": [
        {
          "output_type": "stream",
          "name": "stdout",
          "text": [
            "Sorted array: [11, 12, 22, 25, 64]\n"
          ]
        }
      ],
      "source": [
        "def selection_sort(arr):\n",
        "    # Traverse through all array elements\n",
        "    for i in range(len(arr)):\n",
        "        # Find the minimum element in remaining unsorted array\n",
        "        min_idx = i\n",
        "        for j in range(i+1, len(arr)):\n",
        "            if arr[j] < arr[min_idx]:\n",
        "                min_idx = j\n",
        "        # Swap the found minimum element with the first element\n",
        "        arr[i], arr[min_idx] = arr[min_idx], arr[i]\n",
        "\n",
        "# Example usage\n",
        "arr = [64, 25, 12, 22, 11]\n",
        "selection_sort(arr)\n",
        "print(\"Sorted array:\", arr)"
      ]
    }
  ]
}